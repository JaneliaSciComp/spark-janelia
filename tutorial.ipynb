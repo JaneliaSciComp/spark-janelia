{
 "metadata": {
  "name": "",
  "signature": "sha256:9ec5f6e4e3951aaf8f241f73d307e50a04e08d53184169a61244494d72d61d7e"
 },
 "nbformat": 3,
 "nbformat_minor": 0,
 "worksheets": [
  {
   "cells": [
    {
     "cell_type": "markdown",
     "metadata": {},
     "source": [
      "#### heading\n",
      "### heading\n",
      "## heading\n",
      "# heading\n",
      "\n",
      "LaTeX:\n",
      "$$e^x = \\sum_{k=0}^{\\infty}\\frac{x^k}{k!}$$\n",
      "\n",
      "Code blocks:\n",
      "```python\n",
      "print \"Hello World!\"\n",
      "```\n",
      "\n",
      "![alt text](http://thunder-project.org/thunder/docs/_static/thunder_logo.png \"Thunder logo\")"
     ]
    },
    {
     "cell_type": "markdown",
     "metadata": {},
     "source": [
      "## Basic Spark functionality in Python"
     ]
    },
    {
     "cell_type": "code",
     "collapsed": false,
     "input": [
      "import numpy as np"
     ],
     "language": "python",
     "metadata": {},
     "outputs": [],
     "prompt_number": 75
    },
    {
     "cell_type": "markdown",
     "metadata": {},
     "source": [
      "RDDs"
     ]
    },
    {
     "cell_type": "code",
     "collapsed": false,
     "input": [
      "np.arange(10)"
     ],
     "language": "python",
     "metadata": {},
     "outputs": [
      {
       "metadata": {},
       "output_type": "pyout",
       "prompt_number": 14,
       "text": [
        "array([0, 1, 2, 3, 4, 5, 6, 7, 8, 9])"
       ]
      }
     ],
     "prompt_number": 14
    },
    {
     "cell_type": "code",
     "collapsed": false,
     "input": [
      "data = sc.parallelize(np.arange(10))\n",
      "data"
     ],
     "language": "python",
     "metadata": {},
     "outputs": [
      {
       "metadata": {},
       "output_type": "pyout",
       "prompt_number": 15,
       "text": [
        "ParallelCollectionRDD[14] at parallelize at PythonRDD.scala:364"
       ]
      }
     ],
     "prompt_number": 15
    },
    {
     "cell_type": "code",
     "collapsed": false,
     "input": [
      "data.first()"
     ],
     "language": "python",
     "metadata": {},
     "outputs": [
      {
       "metadata": {},
       "output_type": "pyout",
       "prompt_number": 16,
       "text": [
        "0"
       ]
      }
     ],
     "prompt_number": 16
    },
    {
     "cell_type": "code",
     "collapsed": false,
     "input": [
      "data.collect()"
     ],
     "language": "python",
     "metadata": {},
     "outputs": [
      {
       "metadata": {},
       "output_type": "pyout",
       "prompt_number": 17,
       "text": [
        "[0, 1, 2, 3, 4, 5, 6, 7, 8, 9]"
       ]
      }
     ],
     "prompt_number": 17
    },
    {
     "cell_type": "markdown",
     "metadata": {},
     "source": [
      "Map"
     ]
    },
    {
     "cell_type": "code",
     "collapsed": false,
     "input": [
      "def square(x):\n",
      "    return np.square(x)\n",
      "\n",
      "data.map(square).collect()"
     ],
     "language": "python",
     "metadata": {},
     "outputs": [
      {
       "metadata": {},
       "output_type": "pyout",
       "prompt_number": 18,
       "text": [
        "[0, 1, 4, 9, 16, 25, 36, 49, 64, 81]"
       ]
      }
     ],
     "prompt_number": 18
    },
    {
     "cell_type": "code",
     "collapsed": false,
     "input": [
      "data.map(lambda x: np.square(x)).collect()"
     ],
     "language": "python",
     "metadata": {},
     "outputs": [
      {
       "metadata": {},
       "output_type": "pyout",
       "prompt_number": 19,
       "text": [
        "[0, 1, 4, 9, 16, 25, 36, 49, 64, 81]"
       ]
      }
     ],
     "prompt_number": 19
    },
    {
     "cell_type": "markdown",
     "metadata": {},
     "source": [
      "Filter"
     ]
    },
    {
     "cell_type": "code",
     "collapsed": false,
     "input": [
      "data.filter(lambda x: np.mod(x, 2) == 1). collect()"
     ],
     "language": "python",
     "metadata": {},
     "outputs": [
      {
       "metadata": {},
       "output_type": "pyout",
       "prompt_number": 20,
       "text": [
        "[1, 3, 5, 7, 9]"
       ]
      }
     ],
     "prompt_number": 20
    },
    {
     "cell_type": "markdown",
     "metadata": {},
     "source": [
      "Reduce"
     ]
    },
    {
     "cell_type": "code",
     "collapsed": false,
     "input": [
      "data.reduce(lambda x, y: x+y)"
     ],
     "language": "python",
     "metadata": {},
     "outputs": [
      {
       "metadata": {},
       "output_type": "pyout",
       "prompt_number": 22,
       "text": [
        "45"
       ]
      }
     ],
     "prompt_number": 22
    },
    {
     "cell_type": "markdown",
     "metadata": {},
     "source": [
      "## More advanced topics and examples"
     ]
    },
    {
     "cell_type": "markdown",
     "metadata": {},
     "source": [
      "Loading data"
     ]
    },
    {
     "cell_type": "code",
     "collapsed": false,
     "input": [
      "iris = sc.textFile(\"iris_data.txt\")\n",
      "iris.first()"
     ],
     "language": "python",
     "metadata": {},
     "outputs": [
      {
       "metadata": {},
       "output_type": "pyout",
       "prompt_number": 52,
       "text": [
        "u'5.1\\t3.5\\t1.4\\t0.2\\tsetosa'"
       ]
      }
     ],
     "prompt_number": 52
    },
    {
     "cell_type": "markdown",
     "metadata": {},
     "source": [
      "Preparing data + key-value pairs"
     ]
    },
    {
     "cell_type": "code",
     "collapsed": false,
     "input": [
      "split_iris = iris.map(lambda text: text.split('\\t'))\n",
      "split_iris.first()"
     ],
     "language": "python",
     "metadata": {},
     "outputs": [
      {
       "metadata": {},
       "output_type": "pyout",
       "prompt_number": 57,
       "text": [
        "[u'5.1', u'3.5', u'1.4', u'0.2', u'setosa']"
       ]
      }
     ],
     "prompt_number": 57
    },
    {
     "cell_type": "code",
     "collapsed": false,
     "input": [
      "data = split_iris.map(lambda l: (str(l[-1]), np.array(l[:-1], dtype='float')))\n",
      "data.first()"
     ],
     "language": "python",
     "metadata": {},
     "outputs": [
      {
       "metadata": {},
       "output_type": "pyout",
       "prompt_number": 58,
       "text": [
        "('setosa', array([ 5.1,  3.5,  1.4,  0.2]))"
       ]
      }
     ],
     "prompt_number": 58
    },
    {
     "cell_type": "markdown",
     "metadata": {},
     "source": [
      "Reduce by key"
     ]
    },
    {
     "cell_type": "code",
     "collapsed": false,
     "input": [
      "data.mapValues(lambda x: 1).reduceByKey(lambda x, y: x + y).collect()"
     ],
     "language": "python",
     "metadata": {},
     "outputs": [
      {
       "metadata": {},
       "output_type": "pyout",
       "prompt_number": 64,
       "text": [
        "[('versicolor', 50), ('virginica', 50), ('setosa', 50)]"
       ]
      }
     ],
     "prompt_number": 64
    },
    {
     "cell_type": "code",
     "collapsed": false,
     "input": [
      "data.mapValues(lambda x: np.array([x, 1])).reduceByKey(lambda x, y: x + y).mapValues(lambda x: x[0]/x[1]).collect()"
     ],
     "language": "python",
     "metadata": {},
     "outputs": [
      {
       "metadata": {},
       "output_type": "pyout",
       "prompt_number": 73,
       "text": [
        "[('versicolor', array([ 5.936,  2.77 ,  4.26 ,  1.326])),\n",
        " ('setosa', array([ 5.006,  3.428,  1.462,  0.246])),\n",
        " ('virginica', array([ 6.588,  2.974,  5.552,  2.026]))]"
       ]
      }
     ],
     "prompt_number": 73
    },
    {
     "cell_type": "markdown",
     "metadata": {},
     "source": [
      "## Regression example"
     ]
    },
    {
     "cell_type": "code",
     "collapsed": false,
     "input": [
      "import seaborn as sns\n",
      "sns.set_context('talk')\n",
      "sns.set_style('darkgrid')"
     ],
     "language": "python",
     "metadata": {},
     "outputs": []
    },
    {
     "cell_type": "code",
     "collapsed": false,
     "input": [
      "np.random.uniform(-3, 3)"
     ],
     "language": "python",
     "metadata": {},
     "outputs": [
      {
       "metadata": {},
       "output_type": "pyout",
       "prompt_number": 112,
       "text": [
        "-1.8532156239658415"
       ]
      }
     ],
     "prompt_number": 112
    },
    {
     "cell_type": "code",
     "collapsed": false,
     "input": [
      "def f(x, m, b, sigma):\n",
      "    return m*x + b + sigma*np.random.rand(len(x))\n",
      "\n",
      "N = 100\n",
      "x = np.random.randn(N)\n",
      "\n",
      "M = 100\n",
      "y = [(i, f(x, np.random.uniform(-4, 4), np.random.uniform(-1, 1), np.random.uniform(0.1, 10))) for i in xrange(M)]\n",
      "data = sc.parallelize(y)\n",
      "\n",
      "nsamples = 8\n",
      "sample = data.values().takeSample(True, nsamples)\n",
      "plt.figure(figsize=(20,10))\n",
      "for i in xrange(nsamples):\n",
      "    plt.subplot(2,4,i);\n",
      "    plt.plot(x, sample[i], '.');\n",
      "    plt.xlim([-3, 3]);\n",
      "    plt.ylim([-15, 15]);"
     ],
     "language": "python",
     "metadata": {},
     "outputs": [
      {
       "metadata": {},
       "output_type": "display_data",
       "png": "[encoded data removed]",
       "text": [
        "<matplotlib.figure.Figure at 0x549f490>"
       ]
      }
     ],
     "prompt_number": 118
    },
    {
     "cell_type": "code",
     "collapsed": false,
     "input": [
      "from sklearn.linear_model import LinearRegression\n",
      "\n",
      "def regress(x, y):\n",
      "    result = LinearRegression().fit(x[None, :].T, y[None, :].T)\n",
      "    return result.coef_[0,0], result.intercept_[0]\n",
      "\n",
      "regModels = data.mapValues(lambda y: regress(x, y))\n",
      "\n",
      "regModels.first()"
     ],
     "language": "python",
     "metadata": {},
     "outputs": [
      {
       "metadata": {},
       "output_type": "pyout",
       "prompt_number": 171,
       "text": [
        "(0, (-2.4035508207316045, 3.7298417919490396))"
       ]
      }
     ],
     "prompt_number": 171
    },
    {
     "cell_type": "code",
     "collapsed": false,
     "input": [
      "joined = data.join(regModels)\n",
      "joined.first()"
     ],
     "language": "python",
     "metadata": {},
     "outputs": [
      {
       "metadata": {},
       "output_type": "pyout",
       "prompt_number": 163,
       "text": [
        "(0, (array([  1.92969025,   3.91150583,  13.04525469,   3.00071921,\n",
        "          -0.11395396,   7.92291949,  -0.22471902,   1.80400581,\n",
        "           2.40890578,   1.78407968,  -1.14442169,   0.19292063,\n",
        "          -0.79139868,   8.0136098 ,   0.68643174,   0.9680215 ,\n",
        "           0.34964154,  -2.591253  ,   0.12056233,   4.35016769,\n",
        "           3.57583685,   1.73741806,   2.72816969,   3.04752135,\n",
        "           1.89248095,   4.13540796,   5.55769578,   4.76419671,\n",
        "           3.91442879,  10.56146164,  -2.06171583,  10.93120919,\n",
        "           8.8098404 ,   5.23459579,   6.46929131,   7.22056776,\n",
        "           7.56392738,  -0.84697401,  10.08457975,   3.35336756,\n",
        "           6.60610396,   8.68586508,  -0.02967114,   3.53467369,\n",
        "           3.84994711,   5.54896164,  -0.66768193,   8.49088781,\n",
        "           2.43927072,   9.55152081,   8.1462076 ,  -0.30333879,\n",
        "           7.58780506,   1.76832678,   1.780987  ,   8.54521869,\n",
        "           1.18319375,   7.17430783,   7.2895815 ,  -4.68276497,\n",
        "           1.63301803,   9.33142249,  -1.03330384,   5.96935413,\n",
        "           2.37314151,   0.1154794 ,   7.95393404,   1.77366864,\n",
        "          10.36615547,   4.05332554,   2.10674462,   3.34745408,\n",
        "           7.58474596,   6.35123561,   6.56547241,   3.56100215,\n",
        "           4.11727169,   9.74001603,   6.17093487,  -1.2829773 ,\n",
        "           6.38230095,   4.2200523 ,   3.87395177,   1.17176659,\n",
        "          -1.80475831,  -1.94673589,   2.95898091,   3.21165748,\n",
        "          10.4435784 ,   7.8674019 ,   8.04325505,   0.92688098,\n",
        "           8.57973167,   9.84404944,   4.11369903,   0.38367932,\n",
        "          -0.7017373 ,   6.73192819,   0.86089781,  -0.23823608]),\n",
        "  (-2.4035508207316045, 3.7298417919490396)))"
       ]
      }
     ],
     "prompt_number": 163
    },
    {
     "cell_type": "code",
     "collapsed": false,
     "input": [
      "nsamples = 8\n",
      "sample = joined.values().takeSample(True, nsamples)\n",
      "xs = np.linspace(-3, 3, 1000)\n",
      "plt.figure(figsize=(20,10))\n",
      "for i in xrange(nsamples):\n",
      "    yvals = sample[i][0]\n",
      "    m, b = sample[i][1]\n",
      "    plt.subplot(2,4,i);\n",
      "    plt.plot(x, yvals, '.');\n",
      "    plt.plot(xs, m*xs + b)\n",
      "    plt.xlim([-3, 3]);\n",
      "    plt.ylim([-15, 15]);"
     ],
     "language": "python",
     "metadata": {},
     "outputs": [
      {
       "metadata": {},
       "output_type": "display_data",
       "png": "[encoded data removed]",
       "text": [
        "<matplotlib.figure.Figure at 0x642e5d0>"
       ]
      }
     ],
     "prompt_number": 164
    }
   ],
   "metadata": {}
  }
 ]
}